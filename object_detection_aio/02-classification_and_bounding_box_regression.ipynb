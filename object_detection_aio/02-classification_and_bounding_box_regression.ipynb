{
 "cells": [
  {
   "cell_type": "markdown",
   "metadata": {},
   "source": [
    "### 1. Data preparation"
   ]
  },
  {
   "cell_type": "markdown",
   "metadata": {},
   "source": [
    "##### 1.1. Dataset from Kaggle:"
   ]
  },
  {
   "cell_type": "code",
   "execution_count": 1,
   "metadata": {},
   "outputs": [
    {
     "name": "stdout",
     "output_type": "stream",
     "text": [
      "Path to dataset files: C:\\Users\\admin\\.cache\\kagglehub\\datasets\\andrewmvd\\dog-and-cat-detection\\versions\\1\n"
     ]
    }
   ],
   "source": [
    "import kagglehub\n",
    "\n",
    "# Download latest version\n",
    "data_dir = kagglehub.dataset_download(\"andrewmvd/dog-and-cat-detection\")\n",
    "\n",
    "print(\"Path to dataset files:\", data_dir)"
   ]
  },
  {
   "cell_type": "markdown",
   "metadata": {},
   "source": [
    "##### 1.2. Create dataset:"
   ]
  },
  {
   "cell_type": "code",
   "execution_count": 4,
   "metadata": {},
   "outputs": [],
   "source": [
    "from torch.utils.data import Dataset\n",
    "import os\n",
    "from xml.etree import ElementTree as ET\n",
    "from PIL import Image\n",
    "import torch\n",
    "\n",
    "class ImageDataset(Dataset):\n",
    "    def __init__(self, image_dir, annotation_dir, transform=None):\n",
    "        self.image_dir = image_dir\n",
    "        self.annotation_dir = annotation_dir\n",
    "        self.transform = transform\n",
    "        self.image_files = self._filter_images_with_single_object()\n",
    "\n",
    "    def _filter_images_with_single_object(self):\n",
    "        valid_image_files = []\n",
    "        for file in os.listdir(self.image_dir):\n",
    "            if os.path.isfile(os.path.join(self.image_dir, file)):\n",
    "                image_name = file\n",
    "                annotation_name = os.path.splitext(image_name)[0] + '.xml'\n",
    "                annotation_path = os.path.join(self.annotation_dir, annotation_name)\n",
    "\n",
    "                if self._count_object_in_annotation(annotation_path) <= 1:\n",
    "                    valid_image_files.append(image_name)\n",
    "                else:\n",
    "                    print(f'Image {image_name} has more than 1 object and will be excluded from dataset.')\n",
    "        return valid_image_files\n",
    "    \n",
    "    def _count_object_in_annotation(self, annotation_path):\n",
    "        try:\n",
    "            tree = ET.parse(annotation_path)\n",
    "            root = tree.getroot()\n",
    "            count = 0\n",
    "            for obj in root.findall('object'):\n",
    "                count += 1\n",
    "            return count\n",
    "        except FileNotFoundError:\n",
    "            return 0\n",
    "\n",
    "    def _parse_annotation(self, annotation_path):\n",
    "        try:\n",
    "            tree = ET.parse(annotation_path)\n",
    "            root = tree.getroot()\n",
    "            image_width = int(root.find('size/width').text)\n",
    "            image_height = int(root.find('size/height').text)\n",
    "            label = None\n",
    "            bbox = None\n",
    "            for obj in root.findall('object'):\n",
    "                name = obj.find('name').text\n",
    "                # we only consider image with 1 object at the moment\n",
    "                if label is None:\n",
    "                    label = name\n",
    "                    break\n",
    "\n",
    "                xmin = int(obj.find('bndbox/xmin').text)\n",
    "                xmax = int(obj.find('bndbox/xmax').text)\n",
    "                ymin = int(obj.find('bndbox/ymin').text)\n",
    "                ymax = int(obj.find('bndbox/ymax').text)\n",
    "\n",
    "                bbox = [\n",
    "                    xmin / image_width,\n",
    "                    ymin / image_height,\n",
    "                    xmax / image_width,\n",
    "                    ymax / image_height\n",
    "                ]\n",
    "\n",
    "            # convert label to numerical representation\n",
    "            label_num = 0 if label == 'cat' else 1 if label == 'dog' else -1\n",
    "            return label_num, torch.tensor(bbox, dtype=torch.float32)\n",
    "        except FileNotFoundError:\n",
    "            print(f'File {annotation_path} not found.')\n",
    "\n",
    "    def __len__(self):\n",
    "        return len(self.image_files)\n",
    "    \n",
    "    def __getitem__(self, idx):\n",
    "        image_name = self.image_files[idx]\n",
    "        image_path = os.path.join(self.image_dir, image_name)\n",
    "        annotation_name = os.path.splitext(image_name)[0] + '.xml'\n",
    "        annotation_path = os.path.join(self.annotation_dir, annotation_name)\n",
    "\n",
    "        # load image\n",
    "        image = Image.open(image_path).convert('RGB')\n",
    "        if self.transform:\n",
    "            image = self.transform(image)\n",
    "\n",
    "        label, bbox = self._parse_annotation(annotation_path)\n",
    "        return image, label, bbox"
   ]
  },
  {
   "cell_type": "markdown",
   "metadata": {},
   "source": [
    "##### 1.3. Train test split and data loader:"
   ]
  },
  {
   "cell_type": "code",
   "execution_count": 5,
   "metadata": {},
   "outputs": [
    {
     "name": "stdout",
     "output_type": "stream",
     "text": [
      "Image Cats_Test736.png has more than 1 object and will be excluded from dataset.\n"
     ]
    }
   ],
   "source": [
    "from torch.utils.data import DataLoader, random_split\n",
    "import torchvision.transforms as transforms\n",
    "import torch\n",
    "\n",
    "annotation_dir = os.path.join(data_dir, 'annotations')\n",
    "image_dir = os.path.join(data_dir, 'images')\n",
    "\n",
    "data_transform = transforms.Compose([\n",
    "    transforms.Resize(size=(224, 224)),\n",
    "    transforms.ToTensor(),\n",
    "    transforms.Normalize(mean=[0.485, 0.456, 0.406], std=[0.229, 0.224, 0.225])\n",
    "])\n",
    "\n",
    "dataset = ImageDataset(image_dir, annotation_dir, data_transform)\n",
    "train_size = int(0.8 * len(dataset))\n",
    "val_size = len(dataset) - train_size\n",
    "generator = torch.Generator().manual_seed(42)\n",
    "train_set, val_set = random_split(dataset=dataset, lengths=[train_size, val_size], generator=generator)\n",
    "\n",
    "# data loader\n",
    "train_loader = DataLoader(train_set, batch_size=32, shuffle=True)\n",
    "val_loader = DataLoader(val_set, batch_size=32, shuffle=False)"
   ]
  },
  {
   "cell_type": "markdown",
   "metadata": {},
   "source": [
    "### 2. Build a model with 2 heads (1 for classification, 1 for bbox regression)"
   ]
  },
  {
   "cell_type": "code",
   "execution_count": 6,
   "metadata": {},
   "outputs": [],
   "source": [
    "import torch.nn as nn\n",
    "import torchvision\n",
    "\n",
    "class TwoHeadModel(nn.Module):\n",
    "    def __init__(self, num_classes=2):\n",
    "        super().__init__()\n",
    "\n",
    "        # resnet18 backbone\n",
    "        self.backbone = torchvision.models.resnet18(weights=torchvision.models.ResNet18_Weights.DEFAULT)\n",
    "\n",
    "        # remove fc of original resnet18\n",
    "        num_features = self.backbone.fc.in_features\n",
    "        self.backbone.fc = nn.Identity()\n",
    "\n",
    "        # classification head\n",
    "        self.classifier = nn.Linear(in_features=num_features, out_features=num_classes)\n",
    "\n",
    "        # regression head\n",
    "        self.bbox_regressor = nn.Linear(in_features=num_features, out_features=4)\n",
    "\n",
    "    def forward(self, x):\n",
    "        x = self.backbone(x)\n",
    "        classifier_logits = self.classifier(x)\n",
    "        bbox_coords = torch.sigmoid(self.bbox_regressor(x))\n",
    "        return classifier_logits, bbox_coords"
   ]
  }
 ],
 "metadata": {
  "kernelspec": {
   "display_name": "Python 3",
   "language": "python",
   "name": "python3"
  },
  "language_info": {
   "codemirror_mode": {
    "name": "ipython",
    "version": 3
   },
   "file_extension": ".py",
   "mimetype": "text/x-python",
   "name": "python",
   "nbconvert_exporter": "python",
   "pygments_lexer": "ipython3",
   "version": "3.10.11"
  }
 },
 "nbformat": 4,
 "nbformat_minor": 2
}
