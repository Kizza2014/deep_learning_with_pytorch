{
 "cells": [
  {
   "cell_type": "markdown",
   "metadata": {},
   "source": [
    "Hyper-parameters"
   ]
  },
  {
   "cell_type": "code",
   "execution_count": 2,
   "metadata": {},
   "outputs": [],
   "source": [
    "input_size = 28 * 28\n",
    "num_classes = 10\n",
    "num_epochs = 5\n",
    "batch_size = 64\n",
    "learning_rate = 0.001"
   ]
  },
  {
   "cell_type": "markdown",
   "metadata": {},
   "source": [
    "MNIST dataset"
   ]
  },
  {
   "cell_type": "code",
   "execution_count": 3,
   "metadata": {},
   "outputs": [],
   "source": [
    "import torch\n",
    "from torch.utils.data import DataLoader\n",
    "import torchvision\n",
    "import torchvision.transforms as transform"
   ]
  },
  {
   "cell_type": "code",
   "execution_count": 4,
   "metadata": {},
   "outputs": [],
   "source": [
    "train_dataset = torchvision.datasets.MNIST(\n",
    "    root=r'D:\\pytorch_data', download=True, train=True,\n",
    "    transform=transform.ToTensor()\n",
    ")\n",
    "\n",
    "test_dataset = torchvision.datasets.MNIST(\n",
    "    root=r'D:\\pytorch_data', download=True, train=False,\n",
    "    transform=transform.ToTensor()\n",
    ")"
   ]
  },
  {
   "cell_type": "code",
   "execution_count": 5,
   "metadata": {},
   "outputs": [],
   "source": [
    "# data loader\n",
    "train_loader = DataLoader(train_dataset, batch_size=batch_size, shuffle=True)\n",
    "test_loader = DataLoader(test_dataset, batch_size=batch_size, shuffle=True)"
   ]
  },
  {
   "cell_type": "markdown",
   "metadata": {},
   "source": [
    "Build model"
   ]
  },
  {
   "cell_type": "code",
   "execution_count": 6,
   "metadata": {},
   "outputs": [],
   "source": [
    "import torch.nn as nn"
   ]
  },
  {
   "cell_type": "code",
   "execution_count": 7,
   "metadata": {},
   "outputs": [],
   "source": [
    "model = nn.Linear(in_features=input_size, out_features=num_classes)"
   ]
  },
  {
   "cell_type": "markdown",
   "metadata": {},
   "source": [
    "Loss and optimizer"
   ]
  },
  {
   "cell_type": "code",
   "execution_count": 8,
   "metadata": {},
   "outputs": [],
   "source": [
    "import torch.optim as optim"
   ]
  },
  {
   "cell_type": "code",
   "execution_count": 9,
   "metadata": {},
   "outputs": [],
   "source": [
    "criterion = nn.CrossEntropyLoss()\n",
    "optimizer = optim.SGD(model.parameters(), lr=learning_rate)"
   ]
  },
  {
   "cell_type": "markdown",
   "metadata": {},
   "source": [
    "Train model"
   ]
  },
  {
   "cell_type": "code",
   "execution_count": 13,
   "metadata": {},
   "outputs": [
    {
     "name": "stdout",
     "output_type": "stream",
     "text": [
      "Epoch 0/5, step 99/938, loss: 0.5594063401222229\n",
      "Epoch 0/5, step 199/938, loss: 0.652545154094696\n",
      "Epoch 0/5, step 299/938, loss: 0.7509241700172424\n",
      "Epoch 0/5, step 399/938, loss: 0.522031307220459\n",
      "Epoch 0/5, step 499/938, loss: 0.6628988981246948\n",
      "Epoch 0/5, step 599/938, loss: 0.45475849509239197\n",
      "Epoch 0/5, step 699/938, loss: 0.74127596616745\n",
      "Epoch 0/5, step 799/938, loss: 0.5338485836982727\n",
      "Epoch 0/5, step 899/938, loss: 0.5726433396339417\n",
      "Epoch 1/5, step 99/938, loss: 0.4732332229614258\n",
      "Epoch 1/5, step 199/938, loss: 0.5742534399032593\n",
      "Epoch 1/5, step 299/938, loss: 0.4724878966808319\n",
      "Epoch 1/5, step 399/938, loss: 0.6187495589256287\n",
      "Epoch 1/5, step 499/938, loss: 0.5199728608131409\n",
      "Epoch 1/5, step 599/938, loss: 0.5124821662902832\n",
      "Epoch 1/5, step 699/938, loss: 0.4652331471443176\n",
      "Epoch 1/5, step 799/938, loss: 0.6115310192108154\n",
      "Epoch 1/5, step 899/938, loss: 0.5700879096984863\n",
      "Epoch 2/5, step 99/938, loss: 0.634505569934845\n",
      "Epoch 2/5, step 199/938, loss: 0.5670857429504395\n",
      "Epoch 2/5, step 299/938, loss: 0.7019460201263428\n",
      "Epoch 2/5, step 399/938, loss: 0.5875285863876343\n",
      "Epoch 2/5, step 499/938, loss: 0.4717135429382324\n",
      "Epoch 2/5, step 599/938, loss: 0.5666549801826477\n",
      "Epoch 2/5, step 699/938, loss: 0.4473239481449127\n",
      "Epoch 2/5, step 799/938, loss: 0.5480479001998901\n",
      "Epoch 2/5, step 899/938, loss: 0.5697172284126282\n",
      "Epoch 3/5, step 99/938, loss: 0.5700200200080872\n",
      "Epoch 3/5, step 199/938, loss: 0.6116102933883667\n",
      "Epoch 3/5, step 299/938, loss: 0.5756542682647705\n",
      "Epoch 3/5, step 399/938, loss: 0.6621653437614441\n",
      "Epoch 3/5, step 499/938, loss: 0.6575407981872559\n",
      "Epoch 3/5, step 599/938, loss: 0.5084797739982605\n",
      "Epoch 3/5, step 699/938, loss: 0.49402594566345215\n",
      "Epoch 3/5, step 799/938, loss: 0.5789269208908081\n",
      "Epoch 3/5, step 899/938, loss: 0.685825765132904\n",
      "Epoch 4/5, step 99/938, loss: 0.5823363661766052\n",
      "Epoch 4/5, step 199/938, loss: 0.5178642868995667\n",
      "Epoch 4/5, step 299/938, loss: 0.41236621141433716\n",
      "Epoch 4/5, step 399/938, loss: 0.6018079519271851\n",
      "Epoch 4/5, step 499/938, loss: 0.6629235744476318\n",
      "Epoch 4/5, step 599/938, loss: 0.49173036217689514\n",
      "Epoch 4/5, step 699/938, loss: 0.5504499077796936\n",
      "Epoch 4/5, step 799/938, loss: 0.5313351154327393\n",
      "Epoch 4/5, step 899/938, loss: 0.5608381032943726\n"
     ]
    }
   ],
   "source": [
    "device = 'cuda' if torch.cuda.is_available() else 'cpu'\n",
    "model = model.to(device)\n",
    "model.train()\n",
    "\n",
    "for epoch in range(num_epochs):\n",
    "    for _, (images, labels) in enumerate(train_loader):\n",
    "        images = images.to(device)\n",
    "        labels = labels.to(device)\n",
    "        images = images.view(images.size(0), -1)\n",
    "\n",
    "        # forward pass\n",
    "        pred = model(images)\n",
    "        loss = criterion(pred, labels)\n",
    "\n",
    "        # update parameters\n",
    "        optimizer.zero_grad()\n",
    "        loss.backward()\n",
    "        optimizer.step()\n",
    "\n",
    "        if (_ + 1) % 100 == 0:\n",
    "            print(f'Epoch {epoch + 1}/{num_epochs}, step {_}/{len(train_loader)}, loss: {loss.item()}')       "
   ]
  },
  {
   "cell_type": "code",
   "execution_count": null,
   "metadata": {},
   "outputs": [],
   "source": []
  }
 ],
 "metadata": {
  "kernelspec": {
   "display_name": "Python 3",
   "language": "python",
   "name": "python3"
  },
  "language_info": {
   "codemirror_mode": {
    "name": "ipython",
    "version": 3
   },
   "file_extension": ".py",
   "mimetype": "text/x-python",
   "name": "python",
   "nbconvert_exporter": "python",
   "pygments_lexer": "ipython3",
   "version": "3.10.11"
  }
 },
 "nbformat": 4,
 "nbformat_minor": 2
}
