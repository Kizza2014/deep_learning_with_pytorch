{
 "cells": [
  {
   "cell_type": "code",
   "execution_count": 23,
   "metadata": {},
   "outputs": [],
   "source": [
    "import torch\n",
    "import torch.nn as nn\n",
    "import torch.optim as optim"
   ]
  },
  {
   "cell_type": "markdown",
   "metadata": {},
   "source": [
    "Basic autograd example 1"
   ]
  },
  {
   "cell_type": "code",
   "execution_count": 3,
   "metadata": {},
   "outputs": [
    {
     "name": "stdout",
     "output_type": "stream",
     "text": [
      "tensor(1., requires_grad=True)\n",
      "tensor(2., requires_grad=True)\n",
      "tensor(3., requires_grad=True)\n"
     ]
    }
   ],
   "source": [
    "# Create tensor:\n",
    "x = torch.tensor(1., requires_grad=True)\n",
    "w = torch.tensor(2., requires_grad=True)\n",
    "b = torch.tensor(3., requires_grad=True)\n",
    "print(x)\n",
    "print(w)\n",
    "print(b)"
   ]
  },
  {
   "cell_type": "code",
   "execution_count": 18,
   "metadata": {},
   "outputs": [
    {
     "name": "stdout",
     "output_type": "stream",
     "text": [
      "tensor(5., grad_fn=<AddBackward0>)\n"
     ]
    }
   ],
   "source": [
    "# Build computational graph\n",
    "y = w * x + b\n",
    "print(y)"
   ]
  },
  {
   "cell_type": "code",
   "execution_count": 19,
   "metadata": {},
   "outputs": [
    {
     "name": "stdout",
     "output_type": "stream",
     "text": [
      "tensor(10.)\n",
      "tensor(5.)\n",
      "tensor(8.)\n"
     ]
    }
   ],
   "source": [
    "# Compute gradient\n",
    "y.backward()\n",
    "print(x.grad)\n",
    "print(w.grad)\n",
    "print(b.grad)"
   ]
  },
  {
   "cell_type": "markdown",
   "metadata": {},
   "source": [
    "Basic autograd example 2"
   ]
  },
  {
   "cell_type": "code",
   "execution_count": 20,
   "metadata": {},
   "outputs": [],
   "source": [
    "# Create tensor of shape (10, 3) and (10, 2)\n",
    "x = torch.randn(10, 3)\n",
    "y = torch.rand(10, 2)"
   ]
  },
  {
   "cell_type": "code",
   "execution_count": 22,
   "metadata": {},
   "outputs": [
    {
     "name": "stdout",
     "output_type": "stream",
     "text": [
      "w: Parameter containing:\n",
      "tensor([[-0.2195, -0.5164, -0.0287],\n",
      "        [ 0.3555, -0.0691, -0.1054]], requires_grad=True)\n",
      "b: Parameter containing:\n",
      "tensor([0.5108, 0.3699], requires_grad=True)\n"
     ]
    }
   ],
   "source": [
    "# Build a fully connected layer\n",
    "linear = nn.Linear(in_features=3, out_features=2)\n",
    "print(f'w: {linear.weight}')\n",
    "print(f'b: {linear.bias}')"
   ]
  },
  {
   "cell_type": "code",
   "execution_count": 24,
   "metadata": {},
   "outputs": [],
   "source": [
    "# Build loss function and optimizer\n",
    "criterion = nn.MSELoss()\n",
    "optimizer = optim.SGD(linear.parameters(), lr=0.1)"
   ]
  },
  {
   "cell_type": "code",
   "execution_count": 25,
   "metadata": {},
   "outputs": [],
   "source": [
    "# Forward pass\n",
    "pred = linear(x)"
   ]
  },
  {
   "cell_type": "code",
   "execution_count": 34,
   "metadata": {},
   "outputs": [
    {
     "name": "stdout",
     "output_type": "stream",
     "text": [
      "loss: 0.20708823204040527\n"
     ]
    }
   ],
   "source": [
    "# Compute loss\n",
    "loss = criterion(pred, y)\n",
    "print(f'loss: {loss.item()}')"
   ]
  },
  {
   "cell_type": "code",
   "execution_count": 36,
   "metadata": {},
   "outputs": [],
   "source": [
    "# Backward pass\n",
    "loss.backward()"
   ]
  },
  {
   "cell_type": "code",
   "execution_count": 38,
   "metadata": {},
   "outputs": [
    {
     "name": "stdout",
     "output_type": "stream",
     "text": [
      "dL/dw: tensor([[-0.2299, -0.4125, -0.0345],\n",
      "        [ 0.1180, -0.0356, -0.0875]])\n",
      "dL/db: tensor([-0.0298, -0.0474])\n"
     ]
    }
   ],
   "source": [
    "# Print out gradient\n",
    "print(f'dL/dw: {linear.weight.grad}')\n",
    "print(f'dL/db: {linear.bias.grad}')"
   ]
  },
  {
   "cell_type": "code",
   "execution_count": 39,
   "metadata": {},
   "outputs": [
    {
     "name": "stdout",
     "output_type": "stream",
     "text": [
      "new w: Parameter containing:\n",
      "tensor([[-0.1965, -0.4751, -0.0253],\n",
      "        [ 0.3437, -0.0656, -0.0966]], requires_grad=True)\n",
      "new b: Parameter containing:\n",
      "tensor([0.5138, 0.3746], requires_grad=True)\n"
     ]
    }
   ],
   "source": [
    "# Update parameters\n",
    "optimizer.step()\n",
    "print(f'new w: {linear.weight}')\n",
    "print(f'new b: {linear.bias}')"
   ]
  },
  {
   "cell_type": "code",
   "execution_count": 40,
   "metadata": {},
   "outputs": [
    {
     "name": "stdout",
     "output_type": "stream",
     "text": [
      "loss after 1 step optimization: 0.18327650427818298\n"
     ]
    }
   ],
   "source": [
    "# Compute loss after 1 gradient descent step\n",
    "next_pred = linear(x)\n",
    "next_loss = criterion(next_pred, y)\n",
    "print(f'loss after 1 step optimization: {next_loss.item()}')"
   ]
  },
  {
   "cell_type": "markdown",
   "metadata": {},
   "source": [
    "Loading data from numpy"
   ]
  },
  {
   "cell_type": "code",
   "execution_count": 41,
   "metadata": {},
   "outputs": [],
   "source": [
    "import numpy as np"
   ]
  },
  {
   "cell_type": "code",
   "execution_count": 46,
   "metadata": {},
   "outputs": [],
   "source": [
    "# Create numpy array\n",
    "x = np.array([[1, 2], [3, 4]])"
   ]
  },
  {
   "cell_type": "code",
   "execution_count": 47,
   "metadata": {},
   "outputs": [
    {
     "name": "stdout",
     "output_type": "stream",
     "text": [
      "tensor([[1, 2],\n",
      "        [3, 4]])\n",
      "tensor([[10,  2],\n",
      "        [ 3,  4]])\n"
     ]
    }
   ],
   "source": [
    "# Convert numpy array to torch tensor\n",
    "y = torch.from_numpy(x)\n",
    "print(y)\n",
    "\n",
    "# Making change to x result in changes in y\n",
    "x[0][0] = 10\n",
    "print(y)"
   ]
  },
  {
   "cell_type": "code",
   "execution_count": 49,
   "metadata": {},
   "outputs": [
    {
     "name": "stdout",
     "output_type": "stream",
     "text": [
      "<class 'numpy.ndarray'>\n"
     ]
    }
   ],
   "source": [
    "# Convert torch tensor to numpy array\n",
    "z = y.numpy()\n",
    "print(type(z))"
   ]
  },
  {
   "cell_type": "markdown",
   "metadata": {},
   "source": [
    "Input pipeline"
   ]
  },
  {
   "cell_type": "code",
   "execution_count": 59,
   "metadata": {},
   "outputs": [],
   "source": [
    "from torch.utils.data import DataLoader\n",
    "import torchvision\n",
    "from torchvision.transforms import ToTensor\n",
    "import os"
   ]
  },
  {
   "cell_type": "code",
   "execution_count": 57,
   "metadata": {},
   "outputs": [
    {
     "name": "stdout",
     "output_type": "stream",
     "text": [
      "Downloading https://www.cs.toronto.edu/~kriz/cifar-10-python.tar.gz to D:\\pytorch_data\\cifar-10-python.tar.gz\n"
     ]
    },
    {
     "name": "stderr",
     "output_type": "stream",
     "text": [
      "100.0%\n"
     ]
    },
    {
     "name": "stdout",
     "output_type": "stream",
     "text": [
      "Extracting D:\\pytorch_data\\cifar-10-python.tar.gz to D:\\pytorch_data\n"
     ]
    }
   ],
   "source": [
    "# Download and construct CIFAR-10\n",
    "train_dataset = torchvision.datasets.CIFAR10(\n",
    "    root=r'D:\\pytorch_data', download=True, train=True, transform=ToTensor())\n"
   ]
  },
  {
   "cell_type": "code",
   "execution_count": 58,
   "metadata": {},
   "outputs": [
    {
     "name": "stdout",
     "output_type": "stream",
     "text": [
      "torch.Size([3, 32, 32])\n",
      "6\n"
     ]
    }
   ],
   "source": [
    "# Fetch one data pair\n",
    "image, label = train_dataset[0]\n",
    "print(image.size())\n",
    "print(label)"
   ]
  },
  {
   "cell_type": "code",
   "execution_count": 60,
   "metadata": {},
   "outputs": [],
   "source": [
    "# Data loader\n",
    "train_loader = DataLoader(train_dataset, batch_size=64, shuffle=True)"
   ]
  },
  {
   "cell_type": "code",
   "execution_count": 61,
   "metadata": {},
   "outputs": [],
   "source": [
    "# load data\n",
    "data_iter = iter(train_loader)"
   ]
  },
  {
   "cell_type": "code",
   "execution_count": 64,
   "metadata": {},
   "outputs": [
    {
     "name": "stdout",
     "output_type": "stream",
     "text": [
      "64\n",
      "64\n"
     ]
    }
   ],
   "source": [
    "# mini-batch images and label\n",
    "images, labels = next(data_iter)\n",
    "print(len(images))\n",
    "print(len(labels))"
   ]
  },
  {
   "cell_type": "code",
   "execution_count": 67,
   "metadata": {},
   "outputs": [
    {
     "name": "stdout",
     "output_type": "stream",
     "text": [
      "Mini-batch 0: 64 images, 64 labels\n",
      "Mini-batch 1: 64 images, 64 labels\n",
      "Mini-batch 2: 64 images, 64 labels\n",
      "Mini-batch 3: 64 images, 64 labels\n",
      "Mini-batch 4: 64 images, 64 labels\n",
      "Mini-batch 5: 64 images, 64 labels\n",
      "Mini-batch 6: 64 images, 64 labels\n",
      "Mini-batch 7: 64 images, 64 labels\n",
      "Mini-batch 8: 64 images, 64 labels\n",
      "Mini-batch 9: 64 images, 64 labels\n",
      "Mini-batch 10: 64 images, 64 labels\n",
      "Mini-batch 11: 64 images, 64 labels\n",
      "Mini-batch 12: 64 images, 64 labels\n",
      "Mini-batch 13: 64 images, 64 labels\n",
      "Mini-batch 14: 64 images, 64 labels\n",
      "Mini-batch 15: 64 images, 64 labels\n",
      "Mini-batch 16: 64 images, 64 labels\n",
      "Mini-batch 17: 64 images, 64 labels\n",
      "Mini-batch 18: 64 images, 64 labels\n",
      "Mini-batch 19: 64 images, 64 labels\n",
      "Mini-batch 20: 64 images, 64 labels\n",
      "Mini-batch 21: 64 images, 64 labels\n",
      "Mini-batch 22: 64 images, 64 labels\n",
      "Mini-batch 23: 64 images, 64 labels\n",
      "Mini-batch 24: 64 images, 64 labels\n",
      "Mini-batch 25: 64 images, 64 labels\n",
      "Mini-batch 26: 64 images, 64 labels\n",
      "Mini-batch 27: 64 images, 64 labels\n",
      "Mini-batch 28: 64 images, 64 labels\n",
      "Mini-batch 29: 64 images, 64 labels\n",
      "Mini-batch 30: 64 images, 64 labels\n",
      "Mini-batch 31: 64 images, 64 labels\n",
      "Mini-batch 32: 64 images, 64 labels\n",
      "Mini-batch 33: 64 images, 64 labels\n",
      "Mini-batch 34: 64 images, 64 labels\n",
      "Mini-batch 35: 64 images, 64 labels\n",
      "Mini-batch 36: 64 images, 64 labels\n",
      "Mini-batch 37: 64 images, 64 labels\n",
      "Mini-batch 38: 64 images, 64 labels\n",
      "Mini-batch 39: 64 images, 64 labels\n",
      "Mini-batch 40: 64 images, 64 labels\n",
      "Mini-batch 41: 64 images, 64 labels\n",
      "Mini-batch 42: 64 images, 64 labels\n",
      "Mini-batch 43: 64 images, 64 labels\n",
      "Mini-batch 44: 64 images, 64 labels\n",
      "Mini-batch 45: 64 images, 64 labels\n",
      "Mini-batch 46: 64 images, 64 labels\n",
      "Mini-batch 47: 64 images, 64 labels\n",
      "Mini-batch 48: 64 images, 64 labels\n",
      "Mini-batch 49: 64 images, 64 labels\n",
      "Mini-batch 50: 64 images, 64 labels\n",
      "Mini-batch 51: 64 images, 64 labels\n",
      "Mini-batch 52: 64 images, 64 labels\n",
      "Mini-batch 53: 64 images, 64 labels\n",
      "Mini-batch 54: 64 images, 64 labels\n",
      "Mini-batch 55: 64 images, 64 labels\n",
      "Mini-batch 56: 64 images, 64 labels\n",
      "Mini-batch 57: 64 images, 64 labels\n",
      "Mini-batch 58: 64 images, 64 labels\n",
      "Mini-batch 59: 64 images, 64 labels\n",
      "Mini-batch 60: 64 images, 64 labels\n",
      "Mini-batch 61: 64 images, 64 labels\n",
      "Mini-batch 62: 64 images, 64 labels\n",
      "Mini-batch 63: 64 images, 64 labels\n",
      "Mini-batch 64: 64 images, 64 labels\n",
      "Mini-batch 65: 64 images, 64 labels\n",
      "Mini-batch 66: 64 images, 64 labels\n",
      "Mini-batch 67: 64 images, 64 labels\n",
      "Mini-batch 68: 64 images, 64 labels\n",
      "Mini-batch 69: 64 images, 64 labels\n",
      "Mini-batch 70: 64 images, 64 labels\n",
      "Mini-batch 71: 64 images, 64 labels\n",
      "Mini-batch 72: 64 images, 64 labels\n",
      "Mini-batch 73: 64 images, 64 labels\n",
      "Mini-batch 74: 64 images, 64 labels\n",
      "Mini-batch 75: 64 images, 64 labels\n",
      "Mini-batch 76: 64 images, 64 labels\n",
      "Mini-batch 77: 64 images, 64 labels\n",
      "Mini-batch 78: 64 images, 64 labels\n",
      "Mini-batch 79: 64 images, 64 labels\n",
      "Mini-batch 80: 64 images, 64 labels\n",
      "Mini-batch 81: 64 images, 64 labels\n",
      "Mini-batch 82: 64 images, 64 labels\n",
      "Mini-batch 83: 64 images, 64 labels\n",
      "Mini-batch 84: 64 images, 64 labels\n",
      "Mini-batch 85: 64 images, 64 labels\n",
      "Mini-batch 86: 64 images, 64 labels\n",
      "Mini-batch 87: 64 images, 64 labels\n",
      "Mini-batch 88: 64 images, 64 labels\n",
      "Mini-batch 89: 64 images, 64 labels\n",
      "Mini-batch 90: 64 images, 64 labels\n",
      "Mini-batch 91: 64 images, 64 labels\n",
      "Mini-batch 92: 64 images, 64 labels\n",
      "Mini-batch 93: 64 images, 64 labels\n",
      "Mini-batch 94: 64 images, 64 labels\n",
      "Mini-batch 95: 64 images, 64 labels\n",
      "Mini-batch 96: 64 images, 64 labels\n",
      "Mini-batch 97: 64 images, 64 labels\n",
      "Mini-batch 98: 64 images, 64 labels\n",
      "Mini-batch 99: 64 images, 64 labels\n",
      "Mini-batch 100: 64 images, 64 labels\n",
      "Mini-batch 101: 64 images, 64 labels\n",
      "Mini-batch 102: 64 images, 64 labels\n",
      "Mini-batch 103: 64 images, 64 labels\n",
      "Mini-batch 104: 64 images, 64 labels\n",
      "Mini-batch 105: 64 images, 64 labels\n",
      "Mini-batch 106: 64 images, 64 labels\n",
      "Mini-batch 107: 64 images, 64 labels\n",
      "Mini-batch 108: 64 images, 64 labels\n",
      "Mini-batch 109: 64 images, 64 labels\n",
      "Mini-batch 110: 64 images, 64 labels\n",
      "Mini-batch 111: 64 images, 64 labels\n",
      "Mini-batch 112: 64 images, 64 labels\n",
      "Mini-batch 113: 64 images, 64 labels\n",
      "Mini-batch 114: 64 images, 64 labels\n",
      "Mini-batch 115: 64 images, 64 labels\n",
      "Mini-batch 116: 64 images, 64 labels\n",
      "Mini-batch 117: 64 images, 64 labels\n",
      "Mini-batch 118: 64 images, 64 labels\n",
      "Mini-batch 119: 64 images, 64 labels\n",
      "Mini-batch 120: 64 images, 64 labels\n",
      "Mini-batch 121: 64 images, 64 labels\n",
      "Mini-batch 122: 64 images, 64 labels\n",
      "Mini-batch 123: 64 images, 64 labels\n",
      "Mini-batch 124: 64 images, 64 labels\n",
      "Mini-batch 125: 64 images, 64 labels\n",
      "Mini-batch 126: 64 images, 64 labels\n",
      "Mini-batch 127: 64 images, 64 labels\n",
      "Mini-batch 128: 64 images, 64 labels\n",
      "Mini-batch 129: 64 images, 64 labels\n",
      "Mini-batch 130: 64 images, 64 labels\n",
      "Mini-batch 131: 64 images, 64 labels\n",
      "Mini-batch 132: 64 images, 64 labels\n",
      "Mini-batch 133: 64 images, 64 labels\n",
      "Mini-batch 134: 64 images, 64 labels\n",
      "Mini-batch 135: 64 images, 64 labels\n",
      "Mini-batch 136: 64 images, 64 labels\n",
      "Mini-batch 137: 64 images, 64 labels\n",
      "Mini-batch 138: 64 images, 64 labels\n",
      "Mini-batch 139: 64 images, 64 labels\n",
      "Mini-batch 140: 64 images, 64 labels\n",
      "Mini-batch 141: 64 images, 64 labels\n",
      "Mini-batch 142: 64 images, 64 labels\n",
      "Mini-batch 143: 64 images, 64 labels\n",
      "Mini-batch 144: 64 images, 64 labels\n",
      "Mini-batch 145: 64 images, 64 labels\n",
      "Mini-batch 146: 64 images, 64 labels\n",
      "Mini-batch 147: 64 images, 64 labels\n",
      "Mini-batch 148: 64 images, 64 labels\n",
      "Mini-batch 149: 64 images, 64 labels\n",
      "Mini-batch 150: 64 images, 64 labels\n",
      "Mini-batch 151: 64 images, 64 labels\n",
      "Mini-batch 152: 64 images, 64 labels\n",
      "Mini-batch 153: 64 images, 64 labels\n",
      "Mini-batch 154: 64 images, 64 labels\n",
      "Mini-batch 155: 64 images, 64 labels\n",
      "Mini-batch 156: 64 images, 64 labels\n",
      "Mini-batch 157: 64 images, 64 labels\n",
      "Mini-batch 158: 64 images, 64 labels\n",
      "Mini-batch 159: 64 images, 64 labels\n",
      "Mini-batch 160: 64 images, 64 labels\n",
      "Mini-batch 161: 64 images, 64 labels\n",
      "Mini-batch 162: 64 images, 64 labels\n",
      "Mini-batch 163: 64 images, 64 labels\n",
      "Mini-batch 164: 64 images, 64 labels\n",
      "Mini-batch 165: 64 images, 64 labels\n",
      "Mini-batch 166: 64 images, 64 labels\n",
      "Mini-batch 167: 64 images, 64 labels\n",
      "Mini-batch 168: 64 images, 64 labels\n",
      "Mini-batch 169: 64 images, 64 labels\n",
      "Mini-batch 170: 64 images, 64 labels\n",
      "Mini-batch 171: 64 images, 64 labels\n",
      "Mini-batch 172: 64 images, 64 labels\n",
      "Mini-batch 173: 64 images, 64 labels\n",
      "Mini-batch 174: 64 images, 64 labels\n",
      "Mini-batch 175: 64 images, 64 labels\n",
      "Mini-batch 176: 64 images, 64 labels\n",
      "Mini-batch 177: 64 images, 64 labels\n",
      "Mini-batch 178: 64 images, 64 labels\n",
      "Mini-batch 179: 64 images, 64 labels\n",
      "Mini-batch 180: 64 images, 64 labels\n",
      "Mini-batch 181: 64 images, 64 labels\n",
      "Mini-batch 182: 64 images, 64 labels\n",
      "Mini-batch 183: 64 images, 64 labels\n",
      "Mini-batch 184: 64 images, 64 labels\n",
      "Mini-batch 185: 64 images, 64 labels\n",
      "Mini-batch 186: 64 images, 64 labels\n",
      "Mini-batch 187: 64 images, 64 labels\n",
      "Mini-batch 188: 64 images, 64 labels\n",
      "Mini-batch 189: 64 images, 64 labels\n",
      "Mini-batch 190: 64 images, 64 labels\n",
      "Mini-batch 191: 64 images, 64 labels\n",
      "Mini-batch 192: 64 images, 64 labels\n",
      "Mini-batch 193: 64 images, 64 labels\n",
      "Mini-batch 194: 64 images, 64 labels\n",
      "Mini-batch 195: 64 images, 64 labels\n",
      "Mini-batch 196: 64 images, 64 labels\n",
      "Mini-batch 197: 64 images, 64 labels\n",
      "Mini-batch 198: 64 images, 64 labels\n",
      "Mini-batch 199: 64 images, 64 labels\n",
      "Mini-batch 200: 64 images, 64 labels\n",
      "Mini-batch 201: 64 images, 64 labels\n",
      "Mini-batch 202: 64 images, 64 labels\n",
      "Mini-batch 203: 64 images, 64 labels\n",
      "Mini-batch 204: 64 images, 64 labels\n",
      "Mini-batch 205: 64 images, 64 labels\n",
      "Mini-batch 206: 64 images, 64 labels\n",
      "Mini-batch 207: 64 images, 64 labels\n",
      "Mini-batch 208: 64 images, 64 labels\n",
      "Mini-batch 209: 64 images, 64 labels\n",
      "Mini-batch 210: 64 images, 64 labels\n",
      "Mini-batch 211: 64 images, 64 labels\n",
      "Mini-batch 212: 64 images, 64 labels\n",
      "Mini-batch 213: 64 images, 64 labels\n",
      "Mini-batch 214: 64 images, 64 labels\n",
      "Mini-batch 215: 64 images, 64 labels\n",
      "Mini-batch 216: 64 images, 64 labels\n",
      "Mini-batch 217: 64 images, 64 labels\n",
      "Mini-batch 218: 64 images, 64 labels\n",
      "Mini-batch 219: 64 images, 64 labels\n",
      "Mini-batch 220: 64 images, 64 labels\n",
      "Mini-batch 221: 64 images, 64 labels\n",
      "Mini-batch 222: 64 images, 64 labels\n",
      "Mini-batch 223: 64 images, 64 labels\n",
      "Mini-batch 224: 64 images, 64 labels\n",
      "Mini-batch 225: 64 images, 64 labels\n",
      "Mini-batch 226: 64 images, 64 labels\n",
      "Mini-batch 227: 64 images, 64 labels\n",
      "Mini-batch 228: 64 images, 64 labels\n",
      "Mini-batch 229: 64 images, 64 labels\n",
      "Mini-batch 230: 64 images, 64 labels\n",
      "Mini-batch 231: 64 images, 64 labels\n",
      "Mini-batch 232: 64 images, 64 labels\n",
      "Mini-batch 233: 64 images, 64 labels\n",
      "Mini-batch 234: 64 images, 64 labels\n",
      "Mini-batch 235: 64 images, 64 labels\n",
      "Mini-batch 236: 64 images, 64 labels\n",
      "Mini-batch 237: 64 images, 64 labels\n",
      "Mini-batch 238: 64 images, 64 labels\n",
      "Mini-batch 239: 64 images, 64 labels\n",
      "Mini-batch 240: 64 images, 64 labels\n",
      "Mini-batch 241: 64 images, 64 labels\n",
      "Mini-batch 242: 64 images, 64 labels\n",
      "Mini-batch 243: 64 images, 64 labels\n",
      "Mini-batch 244: 64 images, 64 labels\n",
      "Mini-batch 245: 64 images, 64 labels\n",
      "Mini-batch 246: 64 images, 64 labels\n",
      "Mini-batch 247: 64 images, 64 labels\n",
      "Mini-batch 248: 64 images, 64 labels\n",
      "Mini-batch 249: 64 images, 64 labels\n",
      "Mini-batch 250: 64 images, 64 labels\n",
      "Mini-batch 251: 64 images, 64 labels\n",
      "Mini-batch 252: 64 images, 64 labels\n",
      "Mini-batch 253: 64 images, 64 labels\n",
      "Mini-batch 254: 64 images, 64 labels\n",
      "Mini-batch 255: 64 images, 64 labels\n",
      "Mini-batch 256: 64 images, 64 labels\n",
      "Mini-batch 257: 64 images, 64 labels\n",
      "Mini-batch 258: 64 images, 64 labels\n",
      "Mini-batch 259: 64 images, 64 labels\n",
      "Mini-batch 260: 64 images, 64 labels\n",
      "Mini-batch 261: 64 images, 64 labels\n",
      "Mini-batch 262: 64 images, 64 labels\n",
      "Mini-batch 263: 64 images, 64 labels\n",
      "Mini-batch 264: 64 images, 64 labels\n",
      "Mini-batch 265: 64 images, 64 labels\n",
      "Mini-batch 266: 64 images, 64 labels\n",
      "Mini-batch 267: 64 images, 64 labels\n",
      "Mini-batch 268: 64 images, 64 labels\n",
      "Mini-batch 269: 64 images, 64 labels\n",
      "Mini-batch 270: 64 images, 64 labels\n",
      "Mini-batch 271: 64 images, 64 labels\n",
      "Mini-batch 272: 64 images, 64 labels\n",
      "Mini-batch 273: 64 images, 64 labels\n",
      "Mini-batch 274: 64 images, 64 labels\n",
      "Mini-batch 275: 64 images, 64 labels\n",
      "Mini-batch 276: 64 images, 64 labels\n",
      "Mini-batch 277: 64 images, 64 labels\n",
      "Mini-batch 278: 64 images, 64 labels\n",
      "Mini-batch 279: 64 images, 64 labels\n",
      "Mini-batch 280: 64 images, 64 labels\n",
      "Mini-batch 281: 64 images, 64 labels\n",
      "Mini-batch 282: 64 images, 64 labels\n",
      "Mini-batch 283: 64 images, 64 labels\n",
      "Mini-batch 284: 64 images, 64 labels\n",
      "Mini-batch 285: 64 images, 64 labels\n",
      "Mini-batch 286: 64 images, 64 labels\n",
      "Mini-batch 287: 64 images, 64 labels\n",
      "Mini-batch 288: 64 images, 64 labels\n",
      "Mini-batch 289: 64 images, 64 labels\n",
      "Mini-batch 290: 64 images, 64 labels\n",
      "Mini-batch 291: 64 images, 64 labels\n",
      "Mini-batch 292: 64 images, 64 labels\n",
      "Mini-batch 293: 64 images, 64 labels\n",
      "Mini-batch 294: 64 images, 64 labels\n",
      "Mini-batch 295: 64 images, 64 labels\n",
      "Mini-batch 296: 64 images, 64 labels\n",
      "Mini-batch 297: 64 images, 64 labels\n",
      "Mini-batch 298: 64 images, 64 labels\n",
      "Mini-batch 299: 64 images, 64 labels\n",
      "Mini-batch 300: 64 images, 64 labels\n",
      "Mini-batch 301: 64 images, 64 labels\n",
      "Mini-batch 302: 64 images, 64 labels\n",
      "Mini-batch 303: 64 images, 64 labels\n",
      "Mini-batch 304: 64 images, 64 labels\n",
      "Mini-batch 305: 64 images, 64 labels\n",
      "Mini-batch 306: 64 images, 64 labels\n",
      "Mini-batch 307: 64 images, 64 labels\n",
      "Mini-batch 308: 64 images, 64 labels\n",
      "Mini-batch 309: 64 images, 64 labels\n",
      "Mini-batch 310: 64 images, 64 labels\n",
      "Mini-batch 311: 64 images, 64 labels\n",
      "Mini-batch 312: 64 images, 64 labels\n",
      "Mini-batch 313: 64 images, 64 labels\n",
      "Mini-batch 314: 64 images, 64 labels\n",
      "Mini-batch 315: 64 images, 64 labels\n",
      "Mini-batch 316: 64 images, 64 labels\n",
      "Mini-batch 317: 64 images, 64 labels\n",
      "Mini-batch 318: 64 images, 64 labels\n",
      "Mini-batch 319: 64 images, 64 labels\n",
      "Mini-batch 320: 64 images, 64 labels\n",
      "Mini-batch 321: 64 images, 64 labels\n",
      "Mini-batch 322: 64 images, 64 labels\n",
      "Mini-batch 323: 64 images, 64 labels\n",
      "Mini-batch 324: 64 images, 64 labels\n",
      "Mini-batch 325: 64 images, 64 labels\n",
      "Mini-batch 326: 64 images, 64 labels\n",
      "Mini-batch 327: 64 images, 64 labels\n",
      "Mini-batch 328: 64 images, 64 labels\n",
      "Mini-batch 329: 64 images, 64 labels\n",
      "Mini-batch 330: 64 images, 64 labels\n",
      "Mini-batch 331: 64 images, 64 labels\n",
      "Mini-batch 332: 64 images, 64 labels\n",
      "Mini-batch 333: 64 images, 64 labels\n",
      "Mini-batch 334: 64 images, 64 labels\n",
      "Mini-batch 335: 64 images, 64 labels\n",
      "Mini-batch 336: 64 images, 64 labels\n",
      "Mini-batch 337: 64 images, 64 labels\n",
      "Mini-batch 338: 64 images, 64 labels\n",
      "Mini-batch 339: 64 images, 64 labels\n",
      "Mini-batch 340: 64 images, 64 labels\n",
      "Mini-batch 341: 64 images, 64 labels\n",
      "Mini-batch 342: 64 images, 64 labels\n",
      "Mini-batch 343: 64 images, 64 labels\n",
      "Mini-batch 344: 64 images, 64 labels\n",
      "Mini-batch 345: 64 images, 64 labels\n",
      "Mini-batch 346: 64 images, 64 labels\n",
      "Mini-batch 347: 64 images, 64 labels\n",
      "Mini-batch 348: 64 images, 64 labels\n",
      "Mini-batch 349: 64 images, 64 labels\n",
      "Mini-batch 350: 64 images, 64 labels\n",
      "Mini-batch 351: 64 images, 64 labels\n",
      "Mini-batch 352: 64 images, 64 labels\n",
      "Mini-batch 353: 64 images, 64 labels\n",
      "Mini-batch 354: 64 images, 64 labels\n",
      "Mini-batch 355: 64 images, 64 labels\n",
      "Mini-batch 356: 64 images, 64 labels\n",
      "Mini-batch 357: 64 images, 64 labels\n",
      "Mini-batch 358: 64 images, 64 labels\n",
      "Mini-batch 359: 64 images, 64 labels\n",
      "Mini-batch 360: 64 images, 64 labels\n",
      "Mini-batch 361: 64 images, 64 labels\n",
      "Mini-batch 362: 64 images, 64 labels\n",
      "Mini-batch 363: 64 images, 64 labels\n",
      "Mini-batch 364: 64 images, 64 labels\n",
      "Mini-batch 365: 64 images, 64 labels\n",
      "Mini-batch 366: 64 images, 64 labels\n",
      "Mini-batch 367: 64 images, 64 labels\n",
      "Mini-batch 368: 64 images, 64 labels\n",
      "Mini-batch 369: 64 images, 64 labels\n",
      "Mini-batch 370: 64 images, 64 labels\n",
      "Mini-batch 371: 64 images, 64 labels\n",
      "Mini-batch 372: 64 images, 64 labels\n",
      "Mini-batch 373: 64 images, 64 labels\n",
      "Mini-batch 374: 64 images, 64 labels\n",
      "Mini-batch 375: 64 images, 64 labels\n",
      "Mini-batch 376: 64 images, 64 labels\n",
      "Mini-batch 377: 64 images, 64 labels\n",
      "Mini-batch 378: 64 images, 64 labels\n",
      "Mini-batch 379: 64 images, 64 labels\n",
      "Mini-batch 380: 64 images, 64 labels\n",
      "Mini-batch 381: 64 images, 64 labels\n",
      "Mini-batch 382: 64 images, 64 labels\n",
      "Mini-batch 383: 64 images, 64 labels\n",
      "Mini-batch 384: 64 images, 64 labels\n",
      "Mini-batch 385: 64 images, 64 labels\n",
      "Mini-batch 386: 64 images, 64 labels\n",
      "Mini-batch 387: 64 images, 64 labels\n",
      "Mini-batch 388: 64 images, 64 labels\n",
      "Mini-batch 389: 64 images, 64 labels\n",
      "Mini-batch 390: 64 images, 64 labels\n",
      "Mini-batch 391: 64 images, 64 labels\n",
      "Mini-batch 392: 64 images, 64 labels\n",
      "Mini-batch 393: 64 images, 64 labels\n",
      "Mini-batch 394: 64 images, 64 labels\n",
      "Mini-batch 395: 64 images, 64 labels\n",
      "Mini-batch 396: 64 images, 64 labels\n",
      "Mini-batch 397: 64 images, 64 labels\n",
      "Mini-batch 398: 64 images, 64 labels\n",
      "Mini-batch 399: 64 images, 64 labels\n",
      "Mini-batch 400: 64 images, 64 labels\n",
      "Mini-batch 401: 64 images, 64 labels\n",
      "Mini-batch 402: 64 images, 64 labels\n",
      "Mini-batch 403: 64 images, 64 labels\n",
      "Mini-batch 404: 64 images, 64 labels\n",
      "Mini-batch 405: 64 images, 64 labels\n",
      "Mini-batch 406: 64 images, 64 labels\n",
      "Mini-batch 407: 64 images, 64 labels\n",
      "Mini-batch 408: 64 images, 64 labels\n",
      "Mini-batch 409: 64 images, 64 labels\n",
      "Mini-batch 410: 64 images, 64 labels\n",
      "Mini-batch 411: 64 images, 64 labels\n",
      "Mini-batch 412: 64 images, 64 labels\n",
      "Mini-batch 413: 64 images, 64 labels\n",
      "Mini-batch 414: 64 images, 64 labels\n",
      "Mini-batch 415: 64 images, 64 labels\n",
      "Mini-batch 416: 64 images, 64 labels\n",
      "Mini-batch 417: 64 images, 64 labels\n",
      "Mini-batch 418: 64 images, 64 labels\n",
      "Mini-batch 419: 64 images, 64 labels\n",
      "Mini-batch 420: 64 images, 64 labels\n",
      "Mini-batch 421: 64 images, 64 labels\n",
      "Mini-batch 422: 64 images, 64 labels\n",
      "Mini-batch 423: 64 images, 64 labels\n",
      "Mini-batch 424: 64 images, 64 labels\n",
      "Mini-batch 425: 64 images, 64 labels\n",
      "Mini-batch 426: 64 images, 64 labels\n",
      "Mini-batch 427: 64 images, 64 labels\n",
      "Mini-batch 428: 64 images, 64 labels\n",
      "Mini-batch 429: 64 images, 64 labels\n",
      "Mini-batch 430: 64 images, 64 labels\n",
      "Mini-batch 431: 64 images, 64 labels\n",
      "Mini-batch 432: 64 images, 64 labels\n",
      "Mini-batch 433: 64 images, 64 labels\n",
      "Mini-batch 434: 64 images, 64 labels\n",
      "Mini-batch 435: 64 images, 64 labels\n",
      "Mini-batch 436: 64 images, 64 labels\n",
      "Mini-batch 437: 64 images, 64 labels\n",
      "Mini-batch 438: 64 images, 64 labels\n",
      "Mini-batch 439: 64 images, 64 labels\n",
      "Mini-batch 440: 64 images, 64 labels\n",
      "Mini-batch 441: 64 images, 64 labels\n",
      "Mini-batch 442: 64 images, 64 labels\n",
      "Mini-batch 443: 64 images, 64 labels\n",
      "Mini-batch 444: 64 images, 64 labels\n",
      "Mini-batch 445: 64 images, 64 labels\n",
      "Mini-batch 446: 64 images, 64 labels\n",
      "Mini-batch 447: 64 images, 64 labels\n",
      "Mini-batch 448: 64 images, 64 labels\n",
      "Mini-batch 449: 64 images, 64 labels\n",
      "Mini-batch 450: 64 images, 64 labels\n",
      "Mini-batch 451: 64 images, 64 labels\n",
      "Mini-batch 452: 64 images, 64 labels\n",
      "Mini-batch 453: 64 images, 64 labels\n",
      "Mini-batch 454: 64 images, 64 labels\n",
      "Mini-batch 455: 64 images, 64 labels\n",
      "Mini-batch 456: 64 images, 64 labels\n",
      "Mini-batch 457: 64 images, 64 labels\n",
      "Mini-batch 458: 64 images, 64 labels\n",
      "Mini-batch 459: 64 images, 64 labels\n",
      "Mini-batch 460: 64 images, 64 labels\n",
      "Mini-batch 461: 64 images, 64 labels\n",
      "Mini-batch 462: 64 images, 64 labels\n",
      "Mini-batch 463: 64 images, 64 labels\n",
      "Mini-batch 464: 64 images, 64 labels\n",
      "Mini-batch 465: 64 images, 64 labels\n",
      "Mini-batch 466: 64 images, 64 labels\n",
      "Mini-batch 467: 64 images, 64 labels\n",
      "Mini-batch 468: 64 images, 64 labels\n",
      "Mini-batch 469: 64 images, 64 labels\n",
      "Mini-batch 470: 64 images, 64 labels\n",
      "Mini-batch 471: 64 images, 64 labels\n",
      "Mini-batch 472: 64 images, 64 labels\n",
      "Mini-batch 473: 64 images, 64 labels\n",
      "Mini-batch 474: 64 images, 64 labels\n",
      "Mini-batch 475: 64 images, 64 labels\n",
      "Mini-batch 476: 64 images, 64 labels\n",
      "Mini-batch 477: 64 images, 64 labels\n",
      "Mini-batch 478: 64 images, 64 labels\n",
      "Mini-batch 479: 64 images, 64 labels\n",
      "Mini-batch 480: 64 images, 64 labels\n",
      "Mini-batch 481: 64 images, 64 labels\n",
      "Mini-batch 482: 64 images, 64 labels\n",
      "Mini-batch 483: 64 images, 64 labels\n",
      "Mini-batch 484: 64 images, 64 labels\n",
      "Mini-batch 485: 64 images, 64 labels\n",
      "Mini-batch 486: 64 images, 64 labels\n",
      "Mini-batch 487: 64 images, 64 labels\n",
      "Mini-batch 488: 64 images, 64 labels\n",
      "Mini-batch 489: 64 images, 64 labels\n",
      "Mini-batch 490: 64 images, 64 labels\n",
      "Mini-batch 491: 64 images, 64 labels\n",
      "Mini-batch 492: 64 images, 64 labels\n",
      "Mini-batch 493: 64 images, 64 labels\n",
      "Mini-batch 494: 64 images, 64 labels\n",
      "Mini-batch 495: 64 images, 64 labels\n",
      "Mini-batch 496: 64 images, 64 labels\n",
      "Mini-batch 497: 64 images, 64 labels\n",
      "Mini-batch 498: 64 images, 64 labels\n",
      "Mini-batch 499: 64 images, 64 labels\n",
      "Mini-batch 500: 64 images, 64 labels\n",
      "Mini-batch 501: 64 images, 64 labels\n",
      "Mini-batch 502: 64 images, 64 labels\n",
      "Mini-batch 503: 64 images, 64 labels\n",
      "Mini-batch 504: 64 images, 64 labels\n",
      "Mini-batch 505: 64 images, 64 labels\n",
      "Mini-batch 506: 64 images, 64 labels\n",
      "Mini-batch 507: 64 images, 64 labels\n",
      "Mini-batch 508: 64 images, 64 labels\n",
      "Mini-batch 509: 64 images, 64 labels\n",
      "Mini-batch 510: 64 images, 64 labels\n",
      "Mini-batch 511: 64 images, 64 labels\n",
      "Mini-batch 512: 64 images, 64 labels\n",
      "Mini-batch 513: 64 images, 64 labels\n",
      "Mini-batch 514: 64 images, 64 labels\n",
      "Mini-batch 515: 64 images, 64 labels\n",
      "Mini-batch 516: 64 images, 64 labels\n",
      "Mini-batch 517: 64 images, 64 labels\n",
      "Mini-batch 518: 64 images, 64 labels\n",
      "Mini-batch 519: 64 images, 64 labels\n",
      "Mini-batch 520: 64 images, 64 labels\n",
      "Mini-batch 521: 64 images, 64 labels\n",
      "Mini-batch 522: 64 images, 64 labels\n",
      "Mini-batch 523: 64 images, 64 labels\n",
      "Mini-batch 524: 64 images, 64 labels\n",
      "Mini-batch 525: 64 images, 64 labels\n",
      "Mini-batch 526: 64 images, 64 labels\n",
      "Mini-batch 527: 64 images, 64 labels\n",
      "Mini-batch 528: 64 images, 64 labels\n",
      "Mini-batch 529: 64 images, 64 labels\n",
      "Mini-batch 530: 64 images, 64 labels\n",
      "Mini-batch 531: 64 images, 64 labels\n",
      "Mini-batch 532: 64 images, 64 labels\n",
      "Mini-batch 533: 64 images, 64 labels\n",
      "Mini-batch 534: 64 images, 64 labels\n",
      "Mini-batch 535: 64 images, 64 labels\n",
      "Mini-batch 536: 64 images, 64 labels\n",
      "Mini-batch 537: 64 images, 64 labels\n",
      "Mini-batch 538: 64 images, 64 labels\n",
      "Mini-batch 539: 64 images, 64 labels\n",
      "Mini-batch 540: 64 images, 64 labels\n",
      "Mini-batch 541: 64 images, 64 labels\n",
      "Mini-batch 542: 64 images, 64 labels\n",
      "Mini-batch 543: 64 images, 64 labels\n",
      "Mini-batch 544: 64 images, 64 labels\n",
      "Mini-batch 545: 64 images, 64 labels\n",
      "Mini-batch 546: 64 images, 64 labels\n",
      "Mini-batch 547: 64 images, 64 labels\n",
      "Mini-batch 548: 64 images, 64 labels\n",
      "Mini-batch 549: 64 images, 64 labels\n",
      "Mini-batch 550: 64 images, 64 labels\n",
      "Mini-batch 551: 64 images, 64 labels\n",
      "Mini-batch 552: 64 images, 64 labels\n",
      "Mini-batch 553: 64 images, 64 labels\n",
      "Mini-batch 554: 64 images, 64 labels\n",
      "Mini-batch 555: 64 images, 64 labels\n",
      "Mini-batch 556: 64 images, 64 labels\n",
      "Mini-batch 557: 64 images, 64 labels\n",
      "Mini-batch 558: 64 images, 64 labels\n",
      "Mini-batch 559: 64 images, 64 labels\n",
      "Mini-batch 560: 64 images, 64 labels\n",
      "Mini-batch 561: 64 images, 64 labels\n",
      "Mini-batch 562: 64 images, 64 labels\n",
      "Mini-batch 563: 64 images, 64 labels\n",
      "Mini-batch 564: 64 images, 64 labels\n",
      "Mini-batch 565: 64 images, 64 labels\n",
      "Mini-batch 566: 64 images, 64 labels\n",
      "Mini-batch 567: 64 images, 64 labels\n",
      "Mini-batch 568: 64 images, 64 labels\n",
      "Mini-batch 569: 64 images, 64 labels\n",
      "Mini-batch 570: 64 images, 64 labels\n",
      "Mini-batch 571: 64 images, 64 labels\n",
      "Mini-batch 572: 64 images, 64 labels\n",
      "Mini-batch 573: 64 images, 64 labels\n",
      "Mini-batch 574: 64 images, 64 labels\n",
      "Mini-batch 575: 64 images, 64 labels\n",
      "Mini-batch 576: 64 images, 64 labels\n",
      "Mini-batch 577: 64 images, 64 labels\n",
      "Mini-batch 578: 64 images, 64 labels\n",
      "Mini-batch 579: 64 images, 64 labels\n",
      "Mini-batch 580: 64 images, 64 labels\n",
      "Mini-batch 581: 64 images, 64 labels\n",
      "Mini-batch 582: 64 images, 64 labels\n",
      "Mini-batch 583: 64 images, 64 labels\n",
      "Mini-batch 584: 64 images, 64 labels\n",
      "Mini-batch 585: 64 images, 64 labels\n",
      "Mini-batch 586: 64 images, 64 labels\n",
      "Mini-batch 587: 64 images, 64 labels\n",
      "Mini-batch 588: 64 images, 64 labels\n",
      "Mini-batch 589: 64 images, 64 labels\n",
      "Mini-batch 590: 64 images, 64 labels\n",
      "Mini-batch 591: 64 images, 64 labels\n",
      "Mini-batch 592: 64 images, 64 labels\n",
      "Mini-batch 593: 64 images, 64 labels\n",
      "Mini-batch 594: 64 images, 64 labels\n",
      "Mini-batch 595: 64 images, 64 labels\n",
      "Mini-batch 596: 64 images, 64 labels\n",
      "Mini-batch 597: 64 images, 64 labels\n",
      "Mini-batch 598: 64 images, 64 labels\n",
      "Mini-batch 599: 64 images, 64 labels\n",
      "Mini-batch 600: 64 images, 64 labels\n",
      "Mini-batch 601: 64 images, 64 labels\n",
      "Mini-batch 602: 64 images, 64 labels\n",
      "Mini-batch 603: 64 images, 64 labels\n",
      "Mini-batch 604: 64 images, 64 labels\n",
      "Mini-batch 605: 64 images, 64 labels\n",
      "Mini-batch 606: 64 images, 64 labels\n",
      "Mini-batch 607: 64 images, 64 labels\n",
      "Mini-batch 608: 64 images, 64 labels\n",
      "Mini-batch 609: 64 images, 64 labels\n",
      "Mini-batch 610: 64 images, 64 labels\n",
      "Mini-batch 611: 64 images, 64 labels\n",
      "Mini-batch 612: 64 images, 64 labels\n",
      "Mini-batch 613: 64 images, 64 labels\n",
      "Mini-batch 614: 64 images, 64 labels\n",
      "Mini-batch 615: 64 images, 64 labels\n",
      "Mini-batch 616: 64 images, 64 labels\n",
      "Mini-batch 617: 64 images, 64 labels\n",
      "Mini-batch 618: 64 images, 64 labels\n",
      "Mini-batch 619: 64 images, 64 labels\n",
      "Mini-batch 620: 64 images, 64 labels\n",
      "Mini-batch 621: 64 images, 64 labels\n",
      "Mini-batch 622: 64 images, 64 labels\n",
      "Mini-batch 623: 64 images, 64 labels\n",
      "Mini-batch 624: 64 images, 64 labels\n",
      "Mini-batch 625: 64 images, 64 labels\n",
      "Mini-batch 626: 64 images, 64 labels\n",
      "Mini-batch 627: 64 images, 64 labels\n",
      "Mini-batch 628: 64 images, 64 labels\n",
      "Mini-batch 629: 64 images, 64 labels\n",
      "Mini-batch 630: 64 images, 64 labels\n",
      "Mini-batch 631: 64 images, 64 labels\n",
      "Mini-batch 632: 64 images, 64 labels\n",
      "Mini-batch 633: 64 images, 64 labels\n",
      "Mini-batch 634: 64 images, 64 labels\n",
      "Mini-batch 635: 64 images, 64 labels\n",
      "Mini-batch 636: 64 images, 64 labels\n",
      "Mini-batch 637: 64 images, 64 labels\n",
      "Mini-batch 638: 64 images, 64 labels\n",
      "Mini-batch 639: 64 images, 64 labels\n",
      "Mini-batch 640: 64 images, 64 labels\n",
      "Mini-batch 641: 64 images, 64 labels\n",
      "Mini-batch 642: 64 images, 64 labels\n",
      "Mini-batch 643: 64 images, 64 labels\n",
      "Mini-batch 644: 64 images, 64 labels\n",
      "Mini-batch 645: 64 images, 64 labels\n",
      "Mini-batch 646: 64 images, 64 labels\n",
      "Mini-batch 647: 64 images, 64 labels\n",
      "Mini-batch 648: 64 images, 64 labels\n",
      "Mini-batch 649: 64 images, 64 labels\n",
      "Mini-batch 650: 64 images, 64 labels\n",
      "Mini-batch 651: 64 images, 64 labels\n",
      "Mini-batch 652: 64 images, 64 labels\n",
      "Mini-batch 653: 64 images, 64 labels\n",
      "Mini-batch 654: 64 images, 64 labels\n",
      "Mini-batch 655: 64 images, 64 labels\n",
      "Mini-batch 656: 64 images, 64 labels\n",
      "Mini-batch 657: 64 images, 64 labels\n",
      "Mini-batch 658: 64 images, 64 labels\n",
      "Mini-batch 659: 64 images, 64 labels\n",
      "Mini-batch 660: 64 images, 64 labels\n",
      "Mini-batch 661: 64 images, 64 labels\n",
      "Mini-batch 662: 64 images, 64 labels\n",
      "Mini-batch 663: 64 images, 64 labels\n",
      "Mini-batch 664: 64 images, 64 labels\n",
      "Mini-batch 665: 64 images, 64 labels\n",
      "Mini-batch 666: 64 images, 64 labels\n",
      "Mini-batch 667: 64 images, 64 labels\n",
      "Mini-batch 668: 64 images, 64 labels\n",
      "Mini-batch 669: 64 images, 64 labels\n",
      "Mini-batch 670: 64 images, 64 labels\n",
      "Mini-batch 671: 64 images, 64 labels\n",
      "Mini-batch 672: 64 images, 64 labels\n",
      "Mini-batch 673: 64 images, 64 labels\n",
      "Mini-batch 674: 64 images, 64 labels\n",
      "Mini-batch 675: 64 images, 64 labels\n",
      "Mini-batch 676: 64 images, 64 labels\n",
      "Mini-batch 677: 64 images, 64 labels\n",
      "Mini-batch 678: 64 images, 64 labels\n",
      "Mini-batch 679: 64 images, 64 labels\n",
      "Mini-batch 680: 64 images, 64 labels\n",
      "Mini-batch 681: 64 images, 64 labels\n",
      "Mini-batch 682: 64 images, 64 labels\n",
      "Mini-batch 683: 64 images, 64 labels\n",
      "Mini-batch 684: 64 images, 64 labels\n",
      "Mini-batch 685: 64 images, 64 labels\n",
      "Mini-batch 686: 64 images, 64 labels\n",
      "Mini-batch 687: 64 images, 64 labels\n",
      "Mini-batch 688: 64 images, 64 labels\n",
      "Mini-batch 689: 64 images, 64 labels\n",
      "Mini-batch 690: 64 images, 64 labels\n",
      "Mini-batch 691: 64 images, 64 labels\n",
      "Mini-batch 692: 64 images, 64 labels\n",
      "Mini-batch 693: 64 images, 64 labels\n",
      "Mini-batch 694: 64 images, 64 labels\n",
      "Mini-batch 695: 64 images, 64 labels\n",
      "Mini-batch 696: 64 images, 64 labels\n",
      "Mini-batch 697: 64 images, 64 labels\n",
      "Mini-batch 698: 64 images, 64 labels\n",
      "Mini-batch 699: 64 images, 64 labels\n",
      "Mini-batch 700: 64 images, 64 labels\n",
      "Mini-batch 701: 64 images, 64 labels\n",
      "Mini-batch 702: 64 images, 64 labels\n",
      "Mini-batch 703: 64 images, 64 labels\n",
      "Mini-batch 704: 64 images, 64 labels\n",
      "Mini-batch 705: 64 images, 64 labels\n",
      "Mini-batch 706: 64 images, 64 labels\n",
      "Mini-batch 707: 64 images, 64 labels\n",
      "Mini-batch 708: 64 images, 64 labels\n",
      "Mini-batch 709: 64 images, 64 labels\n",
      "Mini-batch 710: 64 images, 64 labels\n",
      "Mini-batch 711: 64 images, 64 labels\n",
      "Mini-batch 712: 64 images, 64 labels\n",
      "Mini-batch 713: 64 images, 64 labels\n",
      "Mini-batch 714: 64 images, 64 labels\n",
      "Mini-batch 715: 64 images, 64 labels\n",
      "Mini-batch 716: 64 images, 64 labels\n",
      "Mini-batch 717: 64 images, 64 labels\n",
      "Mini-batch 718: 64 images, 64 labels\n",
      "Mini-batch 719: 64 images, 64 labels\n",
      "Mini-batch 720: 64 images, 64 labels\n",
      "Mini-batch 721: 64 images, 64 labels\n",
      "Mini-batch 722: 64 images, 64 labels\n",
      "Mini-batch 723: 64 images, 64 labels\n",
      "Mini-batch 724: 64 images, 64 labels\n",
      "Mini-batch 725: 64 images, 64 labels\n",
      "Mini-batch 726: 64 images, 64 labels\n",
      "Mini-batch 727: 64 images, 64 labels\n",
      "Mini-batch 728: 64 images, 64 labels\n",
      "Mini-batch 729: 64 images, 64 labels\n",
      "Mini-batch 730: 64 images, 64 labels\n",
      "Mini-batch 731: 64 images, 64 labels\n",
      "Mini-batch 732: 64 images, 64 labels\n",
      "Mini-batch 733: 64 images, 64 labels\n",
      "Mini-batch 734: 64 images, 64 labels\n",
      "Mini-batch 735: 64 images, 64 labels\n",
      "Mini-batch 736: 64 images, 64 labels\n",
      "Mini-batch 737: 64 images, 64 labels\n",
      "Mini-batch 738: 64 images, 64 labels\n",
      "Mini-batch 739: 64 images, 64 labels\n",
      "Mini-batch 740: 64 images, 64 labels\n",
      "Mini-batch 741: 64 images, 64 labels\n",
      "Mini-batch 742: 64 images, 64 labels\n",
      "Mini-batch 743: 64 images, 64 labels\n",
      "Mini-batch 744: 64 images, 64 labels\n",
      "Mini-batch 745: 64 images, 64 labels\n",
      "Mini-batch 746: 64 images, 64 labels\n",
      "Mini-batch 747: 64 images, 64 labels\n",
      "Mini-batch 748: 64 images, 64 labels\n",
      "Mini-batch 749: 64 images, 64 labels\n",
      "Mini-batch 750: 64 images, 64 labels\n",
      "Mini-batch 751: 64 images, 64 labels\n",
      "Mini-batch 752: 64 images, 64 labels\n",
      "Mini-batch 753: 64 images, 64 labels\n",
      "Mini-batch 754: 64 images, 64 labels\n",
      "Mini-batch 755: 64 images, 64 labels\n",
      "Mini-batch 756: 64 images, 64 labels\n",
      "Mini-batch 757: 64 images, 64 labels\n",
      "Mini-batch 758: 64 images, 64 labels\n",
      "Mini-batch 759: 64 images, 64 labels\n",
      "Mini-batch 760: 64 images, 64 labels\n",
      "Mini-batch 761: 64 images, 64 labels\n",
      "Mini-batch 762: 64 images, 64 labels\n",
      "Mini-batch 763: 64 images, 64 labels\n",
      "Mini-batch 764: 64 images, 64 labels\n",
      "Mini-batch 765: 64 images, 64 labels\n",
      "Mini-batch 766: 64 images, 64 labels\n",
      "Mini-batch 767: 64 images, 64 labels\n",
      "Mini-batch 768: 64 images, 64 labels\n",
      "Mini-batch 769: 64 images, 64 labels\n",
      "Mini-batch 770: 64 images, 64 labels\n",
      "Mini-batch 771: 64 images, 64 labels\n",
      "Mini-batch 772: 64 images, 64 labels\n",
      "Mini-batch 773: 64 images, 64 labels\n",
      "Mini-batch 774: 64 images, 64 labels\n",
      "Mini-batch 775: 64 images, 64 labels\n",
      "Mini-batch 776: 64 images, 64 labels\n",
      "Mini-batch 777: 64 images, 64 labels\n",
      "Mini-batch 778: 64 images, 64 labels\n",
      "Mini-batch 779: 64 images, 64 labels\n",
      "Mini-batch 780: 64 images, 64 labels\n",
      "Mini-batch 781: 16 images, 16 labels\n"
     ]
    }
   ],
   "source": [
    "# Actual usage of data loader\n",
    "for _, payload in enumerate(train_loader):\n",
    "    images = payload[0]\n",
    "    labels = payload[1]\n",
    "    print(f'Mini-batch {_}: {len(images)} images, {len(labels)} labels')"
   ]
  },
  {
   "cell_type": "markdown",
   "metadata": {},
   "source": [
    "Input pipeline for custom dataset"
   ]
  },
  {
   "cell_type": "code",
   "execution_count": 71,
   "metadata": {},
   "outputs": [],
   "source": [
    "from torch.utils.data import Dataset, DataLoader"
   ]
  },
  {
   "cell_type": "code",
   "execution_count": 75,
   "metadata": {},
   "outputs": [],
   "source": [
    "# build custom dataset\n",
    "class CustomDataset(Dataset):\n",
    "    def __init__(self):\n",
    "        # 1. specify path of dataset\n",
    "        # 2. initialize list of data file, etc.\n",
    "        pass\n",
    "\n",
    "    def __getitem__(self, idx):\n",
    "        # 1. Read one data from file (using PIL, numpy, etc)\n",
    "        # 2. Preprocess data\n",
    "        # 3. Return data pair (image, label)\n",
    "        return torch.tensor(0.), 0  # psuedo value\n",
    "\n",
    "    def __len__(self):\n",
    "        # return size of dataset\n",
    "        return 1000   # psuedo value"
   ]
  },
  {
   "cell_type": "code",
   "execution_count": 76,
   "metadata": {},
   "outputs": [],
   "source": [
    "# Feed custom dataset to data loader\n",
    "custom_dataset = CustomDataset()\n",
    "custom_loader = DataLoader(custom_dataset, batch_size=64, shuffle=True)\n",
    "\n",
    "for _, data_pair in enumerate(custom_loader):\n",
    "    pass"
   ]
  },
  {
   "cell_type": "markdown",
   "metadata": {},
   "source": [
    "Pre-trained model"
   ]
  },
  {
   "cell_type": "code",
   "execution_count": 84,
   "metadata": {},
   "outputs": [],
   "source": [
    "import torchvision\n",
    "import torch.nn as nn\n",
    "from PIL import Image"
   ]
  },
  {
   "cell_type": "code",
   "execution_count": 114,
   "metadata": {},
   "outputs": [],
   "source": [
    "# Download and load the pre-trained ResNet-18\n",
    "resnet = torchvision.models.resnet18(weights=torchvision.models.ResNet18_Weights)"
   ]
  },
  {
   "cell_type": "code",
   "execution_count": 117,
   "metadata": {},
   "outputs": [],
   "source": [
    "# Finetune only the top layer of the model\n",
    "\n",
    "## turn off autograd for parameter of ResNet18\n",
    "for param in resnet.parameters():\n",
    "    param.requires_grad = False\n",
    "\n",
    "## replace the top layer for finetuning\n",
    "resnet.fc = nn.Linear(in_features=resnet.fc.in_features, out_features=10)"
   ]
  },
  {
   "cell_type": "code",
   "execution_count": null,
   "metadata": {},
   "outputs": [
    {
     "name": "stdout",
     "output_type": "stream",
     "text": [
      "False\n"
     ]
    }
   ],
   "source": [
    "# Forward pass\n",
    "labels = ['airplane', 'automobile', 'bird', 'cat', 'deer', 'dog', 'frog', 'horse', 'ship', 'truck']\n",
    "\n",
    "image = Image.open('./Cat03.jpg')\n",
    "image = np.array(image, dtype=np.float32)\n",
    "image = np.permute_dims(image, axes=(2,0,1))\n",
    "image = torch.from_numpy(image)\n",
    "resize = torchvision.transforms.Resize(size=224)\n",
    "image = resize(image)\n",
    "image = image.unsqueeze_(dim=0)\n",
    "label = 'cat'\n",
    "pred = labels[torch.argmax(resnet(image))]\n",
    "\n",
    "print(pred == label)    # wrong output because new fc layer of our model is not trained"
   ]
  },
  {
   "cell_type": "markdown",
   "metadata": {},
   "source": [
    "Save and load model"
   ]
  },
  {
   "cell_type": "code",
   "execution_count": 121,
   "metadata": {},
   "outputs": [
    {
     "name": "stderr",
     "output_type": "stream",
     "text": [
      "C:\\Users\\admin\\AppData\\Local\\Temp\\ipykernel_1340\\1556255639.py:3: FutureWarning: You are using `torch.load` with `weights_only=False` (the current default value), which uses the default pickle module implicitly. It is possible to construct malicious pickle data which will execute arbitrary code during unpickling (See https://github.com/pytorch/pytorch/blob/main/SECURITY.md#untrusted-models for more details). In a future release, the default value for `weights_only` will be flipped to `True`. This limits the functions that could be executed during unpickling. Arbitrary objects will no longer be allowed to be loaded via this mode unless they are explicitly allowlisted by the user via `torch.serialization.add_safe_globals`. We recommend you start setting `weights_only=True` for any use case where you don't have full control of the loaded file. Please open an issue on GitHub for any issues related to this experimental feature.\n",
      "  model = torch.load('model.ckpt')\n"
     ]
    }
   ],
   "source": [
    "# save and load the entire model\n",
    "torch.save(resnet, 'model.ckpt')\n",
    "model = torch.load('model.ckpt')"
   ]
  },
  {
   "cell_type": "code",
   "execution_count": 123,
   "metadata": {},
   "outputs": [
    {
     "name": "stderr",
     "output_type": "stream",
     "text": [
      "C:\\Users\\admin\\AppData\\Local\\Temp\\ipykernel_1340\\4159853325.py:3: FutureWarning: You are using `torch.load` with `weights_only=False` (the current default value), which uses the default pickle module implicitly. It is possible to construct malicious pickle data which will execute arbitrary code during unpickling (See https://github.com/pytorch/pytorch/blob/main/SECURITY.md#untrusted-models for more details). In a future release, the default value for `weights_only` will be flipped to `True`. This limits the functions that could be executed during unpickling. Arbitrary objects will no longer be allowed to be loaded via this mode unless they are explicitly allowlisted by the user via `torch.serialization.add_safe_globals`. We recommend you start setting `weights_only=True` for any use case where you don't have full control of the loaded file. Please open an issue on GitHub for any issues related to this experimental feature.\n",
      "  resnet.load_state_dict(torch.load('params.ckpt'))\n"
     ]
    },
    {
     "data": {
      "text/plain": [
       "<All keys matched successfully>"
      ]
     },
     "execution_count": 123,
     "metadata": {},
     "output_type": "execute_result"
    }
   ],
   "source": [
    "# Save and load only model's parameters\n",
    "torch.save(resnet.state_dict(), 'params.ckpt')\n",
    "resnet.load_state_dict(torch.load('params.ckpt'))"
   ]
  }
 ],
 "metadata": {
  "kernelspec": {
   "display_name": "Python 3",
   "language": "python",
   "name": "python3"
  },
  "language_info": {
   "codemirror_mode": {
    "name": "ipython",
    "version": 3
   },
   "file_extension": ".py",
   "mimetype": "text/x-python",
   "name": "python",
   "nbconvert_exporter": "python",
   "pygments_lexer": "ipython3",
   "version": "3.10.11"
  }
 },
 "nbformat": 4,
 "nbformat_minor": 2
}
